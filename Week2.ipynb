{
  "nbformat": 4,
  "nbformat_minor": 0,
  "metadata": {
    "colab": {
      "name": "Week2.ipynb",
      "provenance": [],
      "authorship_tag": "ABX9TyPKoR0F4olaPK4IBZW/SWWi",
      "include_colab_link": true
    },
    "kernelspec": {
      "name": "python3",
      "display_name": "Python 3"
    },
    "language_info": {
      "name": "python"
    }
  },
  "cells": [
    {
      "cell_type": "markdown",
      "metadata": {
        "id": "view-in-github",
        "colab_type": "text"
      },
      "source": [
        "<a href=\"https://colab.research.google.com/github/programmingBae/Back-End-Praktikum-Web-Semantik-REST-API/blob/main/Week2.ipynb\" target=\"_parent\"><img src=\"https://colab.research.google.com/assets/colab-badge.svg\" alt=\"Open In Colab\"/></a>"
      ]
    },
    {
      "cell_type": "markdown",
      "source": [
        "\n",
        "In this scenario, two friends are eating dinner at a restaurant. The bill comes in the amount of 47.28 dollars. The friends decide to split the bill evenly between them, after adding 15% tip for the service. Calculate the tip, the total amount to pay, and each friend's share, then output a message saying \"Each person needs to pay: \" followed by the resulting number."
      ],
      "metadata": {
        "id": "5f7csaFIn5Jw"
      }
    },
    {
      "cell_type": "code",
      "source": [
        "bill = 47.28\n",
        "tip = bill * (15/100)\n",
        "total = bill + tip\n",
        "share = total / 2\n",
        "print(\"Each person needs to pay:\",share)"
      ],
      "metadata": {
        "id": "tVmBDiMwnv5H"
      },
      "execution_count": null,
      "outputs": []
    },
    {
      "cell_type": "markdown",
      "source": [
        "\n",
        "This code is supposed to take two numbers, divide one by another so that the result is equal to 1, and display the result on the screen. Unfortunately, there is an error in the code. Find the error and fix it, so that the output is correct."
      ],
      "metadata": {
        "id": "jDIE0ItDn9Bw"
      }
    },
    {
      "cell_type": "code",
      "source": [
        "numerator = 10\n",
        "denominator = 10\n",
        "result = numerator // denominator\n",
        "print(result)"
      ],
      "metadata": {
        "id": "IYcYoBSjnwgv"
      },
      "execution_count": null,
      "outputs": []
    },
    {
      "cell_type": "markdown",
      "source": [
        "\n",
        "Combine the variables to display the sentence \"How do you like Python so far?\" "
      ],
      "metadata": {
        "id": "1p7BCu6zn_eq"
      }
    },
    {
      "cell_type": "code",
      "source": [
        "word1 = \"How\"\n",
        "word2 = \"do\"\n",
        "word3 = \"you\"\n",
        "word4 = \"like\"\n",
        "word5 = \"Python\"\n",
        "word6 = \"so\"\n",
        "word7 = \"far?\"\n",
        "\n",
        "print(word1+\" \"+word2+\" \"+word3+\" \"+word4+\" \"+word5+\" \"+word6+\" \"+word7)"
      ],
      "metadata": {
        "id": "mW_-7t22oBhx"
      },
      "execution_count": null,
      "outputs": []
    },
    {
      "cell_type": "markdown",
      "source": [
        "\n",
        "This function converts miles to kilometers (km).\n",
        "\n",
        "Complete the function to return the result of the conversion\n",
        "\n",
        "Call the function to convert the trip distance from miles to kilometers\n",
        "\n",
        "Fill in the blank to print the result of the conversion\n",
        "\n",
        "Calculate the round-trip in kilometers by doubling the result, and fill in the blank to print the result"
      ],
      "metadata": {
        "id": "bipSoahUoFIf"
      }
    },
    {
      "cell_type": "code",
      "source": [
        "# 1) Complete the function to return the result of the conversion\n",
        "def convert_distance(miles):\n",
        "\tkm = miles * 1.6  # approximately 1.6 km in 1 mile\n",
        "\treturn km\n",
        "\n",
        "my_trip_miles = 55\n",
        "\n",
        "# 2) Convert my_trip_miles to kilometers by calling the function above\n",
        "my_trip_km = convert_distance(my_trip_miles)\n",
        "\n",
        "# 3) Fill in the blank to print the result of the conversion\n",
        "print(\"The distance in kilometers is \" + str(my_trip_km))\n",
        "\n",
        "# 4) Calculate the round-trip in kilometers by doubling the result,\n",
        "#    and fill in the blank to print the result\n",
        "print(\"The round-trip in kilometers is \" + str((my_trip_km*2)))"
      ],
      "metadata": {
        "id": "sedQVEzsoMPy"
      },
      "execution_count": null,
      "outputs": []
    },
    {
      "cell_type": "markdown",
      "source": [
        "This function compares two numbers and returns them in increasing order.\n",
        "\n",
        "Fill in the blanks, so the print statement displays the result of the function call in order.\n",
        "\n",
        "Hint: if a function returns multiple values, don't forget to store these values in multiple variables"
      ],
      "metadata": {
        "id": "hhpHdYdPoNxw"
      }
    },
    {
      "cell_type": "code",
      "source": [
        "# This function compares two numbers and returns them\n",
        "# in increasing order.\n",
        "def order_numbers(number1, number2):\n",
        "\tif number2 > number1:\n",
        "\t\treturn number1, number2\n",
        "\telse:\n",
        "\t\treturn number2, number1\n",
        "\n",
        "# 1) Fill in the blanks so the print statement displays the result\n",
        "#    of the function call\n",
        "smaller, bigger = order_numbers(100, 99)\n",
        "print(smaller, bigger)"
      ],
      "metadata": {
        "id": "xZG-tXcqoPUz"
      },
      "execution_count": null,
      "outputs": []
    },
    {
      "cell_type": "markdown",
      "source": [
        "\n",
        "Let's revisit our lucky_number function. We want to change it, so that instead of printing the message, it returns the message. This way, the calling line can print the message, or do something else with it if needed. Fill in the blanks to complete the code to make it work."
      ],
      "metadata": {
        "id": "3DZQm4MNoQ34"
      }
    },
    {
      "cell_type": "code",
      "source": [
        "def lucky_number(name):\n",
        "  number = len(name) * 9\n",
        "  lucky_number = \"Hello \" + name + \". Your lucky number is \" + str(number)\n",
        "  return lucky_number\n",
        "\t    \n",
        "print(lucky_number(\"Kay\"))\n",
        "print(lucky_number(\"Cameron\"))"
      ],
      "metadata": {
        "id": "b_JfbpNjoS3Q"
      },
      "execution_count": null,
      "outputs": []
    },
    {
      "cell_type": "markdown",
      "source": [
        "Complete the script by filling in the missing parts. The function receives a name, then returns a greeting based on whether or not that name is \"Taylor\"."
      ],
      "metadata": {
        "id": "_MW8FlB6oT_c"
      }
    },
    {
      "cell_type": "code",
      "source": [
        "def greeting(name):\n",
        "  if name == \"Taylor\":\n",
        "    return \"Welcome back Taylor!\"\n",
        "  else:\n",
        "    return \"Hello there, \" + name\n",
        "\n",
        "print(greeting(\"Taylor\"))\n",
        "print(greeting(\"John\"))"
      ],
      "metadata": {
        "id": "wwYhhkRQobor"
      },
      "execution_count": null,
      "outputs": []
    },
    {
      "cell_type": "markdown",
      "source": [
        "If a filesystem has a block size of 4096 bytes, this means that a file comprised of only one byte will still use 4096 bytes of storage. A file made up of 4097 bytes will use 4096*2=8192 bytes of storage. Knowing this, can you fill in the gaps in the calculate_storage function below, which calculates the total number of bytes needed to store a file of a given size?"
      ],
      "metadata": {
        "id": "hEpaf1H4odHo"
      }
    },
    {
      "cell_type": "code",
      "source": [
        "def calculate_storage(filesize):\n",
        "    block_size = 4096\n",
        "    # Use floor division to calculate how many blocks are fully occupied\n",
        "    full_blocks = filesize // block_size\n",
        "    # Use the modulo operator to check whether there's any remainder\n",
        "    partial_block_remainder = block_size % filesize\n",
        "    # Depending on whether there's a remainder or not, return\n",
        "    # the total number of bytes required to allocate enough blocks\n",
        "    # to store your data.\n",
        "    if partial_block_remainder > 0:\n",
        "        return block_size * (full_blocks+1)\n",
        "    return block_size\n",
        "\n",
        "print(calculate_storage(1))    # Should be 4096\n",
        "print(calculate_storage(4096)) # Should be 4096\n",
        "print(calculate_storage(4097)) # Should be 8192\n",
        "print(calculate_storage(6000)) # Should be 8192"
      ],
      "metadata": {
        "id": "i7-FBZDlofmn"
      },
      "execution_count": null,
      "outputs": []
    },
    {
      "cell_type": "markdown",
      "source": [
        "\n",
        "Complete the function by filling in the missing parts. The color_translator function receives the name of a color, then prints its hexadecimal value. Currently, it only supports the three additive primary colors (red, green, blue), so it returns \"unknown\" for all other colors."
      ],
      "metadata": {
        "id": "9nTOZGSUohSc"
      }
    },
    {
      "cell_type": "code",
      "source": [
        "def color_translator(color):\n",
        "\tif color == \"red\":\n",
        "\t\thex_color = \"#ff0000\"\n",
        "\telif color == \"green\":\n",
        "\t\thex_color = \"#00ff00\"\n",
        "\telif color == \"blue\":\n",
        "\t\thex_color = \"#0000ff\"\n",
        "\telse:\n",
        "\t\thex_color = \"unknown\"\n",
        "\treturn hex_color\n",
        "\n",
        "print(color_translator(\"blue\")) # Should be #0000ff\n",
        "print(color_translator(\"yellow\")) # Should be unknown\n",
        "print(color_translator(\"red\")) # Should be #ff0000\n",
        "print(color_translator(\"black\")) # Should be unknown\n",
        "print(color_translator(\"green\")) # Should be #00ff00\n",
        "print(color_translator(\"\")) # Should be unknown"
      ],
      "metadata": {
        "id": "fcL1Vgbnol3s"
      },
      "execution_count": null,
      "outputs": []
    },
    {
      "cell_type": "markdown",
      "source": [
        "\n",
        "Students in a class receive their grades as Pass/Fail. Scores of 60 or more (out of 100) mean that the grade is \"Pass\". For lower scores, the grade is \"Fail\". In addition, scores above 95 (not included) are graded as \"Top Score\". Fill in this function so that it returns the proper grade."
      ],
      "metadata": {
        "id": "LDQTJWDfonWb"
      }
    },
    {
      "cell_type": "code",
      "source": [
        "def exam_grade(score):\n",
        "\tif score == 100:\n",
        "\t\tgrade = \"Top Score\"\n",
        "\telif score >= 60:\n",
        "\t\tgrade = \"Pass\"\n",
        "\telse:\n",
        "\t\tgrade = \"Fail\"\n",
        "\treturn grade\n",
        "\n",
        "print(exam_grade(65)) # Should be Pass\n",
        "print(exam_grade(55)) # Should be Fail\n",
        "print(exam_grade(60)) # Should be Pass\n",
        "print(exam_grade(95)) # Should be Pass\n",
        "print(exam_grade(100)) # Should be Top Score\n",
        "print(exam_grade(0)) # Should be Fail"
      ],
      "metadata": {
        "id": "1-6LLkozopI9"
      },
      "execution_count": null,
      "outputs": []
    },
    {
      "cell_type": "markdown",
      "source": [
        "\n",
        "Complete the body of the format_name function. This function receives the first_name and last_name parameters and then returns a properly formatted string.\n",
        "\n",
        "Specifically:\n",
        "\n",
        "If both the last_name and the first_name parameters are supplied, the function should return like so:"
      ],
      "metadata": {
        "id": "Ff7BKTVOo7Lq"
      }
    },
    {
      "cell_type": "code",
      "source": [
        "def format_name(first_name, last_name):\n",
        "\t# code goes here\n",
        "\tif len(first_name)>1 and len(last_name)>1:\n",
        "\t\tstring = \"Name: \"+last_name +\", \"+ first_name\n",
        "\telif len(first_name)>1:\n",
        "\t\tstring = \"Name: \"+first_name\n",
        "\telif len(last_name)>1:\n",
        "\t\tstring = \"Name: \"+last_name\n",
        "\telse:\n",
        "\t\tstring = \"\"\n",
        "\treturn string \n",
        "\n",
        "print(format_name(\"Ernest\", \"Hemingway\"))\n",
        "# Should return the string \"Name: Hemingway, Ernest\"\n",
        "\n",
        "print(format_name(\"\", \"Madonna\"))\n",
        "# Should return the string \"Name: Madonna\"\n",
        "\n",
        "print(format_name(\"Voltaire\", \"\"))\n",
        "# Should return the string \"Name: Voltaire\"\n",
        "\n",
        "print(format_name(\"\", \"\"))\n",
        "# Should return an empty string"
      ],
      "metadata": {
        "id": "0U6yNJh_o-9o"
      },
      "execution_count": null,
      "outputs": []
    },
    {
      "cell_type": "markdown",
      "source": [
        "The fractional_part function divides the numerator by the denominator, and returns just the fractional part (a number between 0 and 1). Complete the body of the function so that it returns the right number.\n",
        "Note: Since division by 0 produces an error, if the denominator is 0, the function should return 0 instead of attempting the division."
      ],
      "metadata": {
        "id": "oXHWjlMwpB-p"
      }
    },
    {
      "cell_type": "code",
      "source": [
        "def fractional_part(numerator, denominator):\n",
        "\t# Operate with numerator and denominator to \n",
        "# keep just the fractional part of the quotient\n",
        "\tif denominator == 0:\n",
        "\t\treturn 0\n",
        "\tmodulo = numerator % denominator\n",
        "\ttemp = modulo / denominator\n",
        "\treturn temp\n",
        "\n",
        "print(fractional_part(5, 5)) # Should be 0\n",
        "print(fractional_part(5, 4)) # Should be 0.25\n",
        "print(fractional_part(5, 3)) # Should be 0.66...\n",
        "print(fractional_part(5, 2)) # Should be 0.5\n",
        "print(fractional_part(5, 0)) # Should be 0\n",
        "print(fractional_part(0, 5)) # Should be 0"
      ],
      "metadata": {
        "id": "tPoOdvGZpFzG"
      },
      "execution_count": null,
      "outputs": []
    }
  ]
}